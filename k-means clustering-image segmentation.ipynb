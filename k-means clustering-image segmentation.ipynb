{
 "cells": [
  {
   "cell_type": "code",
   "execution_count": 1,
   "id": "3110886e",
   "metadata": {},
   "outputs": [],
   "source": [
    "%matplotlib inline\n",
    "import cv2 as cv\n",
    "import numpy as np\n",
    "import matplotlib.pyplot as plt"
   ]
  },
  {
   "cell_type": "code",
   "execution_count": 2,
   "id": "0a5cdaf2",
   "metadata": {},
   "outputs": [
    {
     "name": "stdout",
     "output_type": "stream",
     "text": [
      "Rows: 202 \n",
      "Columns: 217\n"
     ]
    }
   ],
   "source": [
    "#reading the image\n",
    "img = cv.imread('Fig_1_a.png')\n",
    "#converting the image to grayscale\n",
    "img = cv.cvtColor(img,cv.COLOR_BGR2GRAY)\n",
    "#reshaping image\n",
    "img_r = img.reshape((-1,1))\n",
    "\n",
    "#printing dimensions of the image\n",
    "r,c = img.shape\n",
    "print(f\"Rows: {r} \\nColumns: {c}\")\n"
   ]
  },
  {
   "cell_type": "code",
   "execution_count": 3,
   "id": "ed583104",
   "metadata": {},
   "outputs": [],
   "source": [
    "#converting the type of the reshaped image to float32\n",
    "img_r = np.float32(img_r)"
   ]
  },
  {
   "cell_type": "code",
   "execution_count": 4,
   "id": "51a8f8df",
   "metadata": {},
   "outputs": [],
   "source": [
    "#Applying image segmentation using k-means clustering\n",
    "criteria = (cv.TERM_CRITERIA_EPS + cv.TERM_CRITERIA_MAX_ITER, 10, 1.0)\n",
    "#k is the number of segements or clusters\n",
    "k = 3 \n",
    "ret,label,center=cv.kmeans(img_r,k,None,criteria,10,cv.KMEANS_PP_CENTERS)"
   ]
  },
  {
   "cell_type": "code",
   "execution_count": 5,
   "id": "8489abe2",
   "metadata": {},
   "outputs": [],
   "source": [
    "#converting the type of center values to uint8\n",
    "center = np.uint8(center)\n",
    "res = center[label.flatten()]\n",
    "#reshaping it back to the original size\n",
    "res2 = res.reshape((img.shape))"
   ]
  },
  {
   "cell_type": "code",
   "execution_count": 6,
   "id": "4730c360",
   "metadata": {},
   "outputs": [],
   "source": [
    "cv.imshow('segemented',res2)\n",
    "cv.imwrite('segmented8.jpg',res2)\n",
    "cv.waitKey(0)\n",
    "cv.destroyAllWindows()"
   ]
  },
  {
   "cell_type": "code",
   "execution_count": 7,
   "id": "3c12e828",
   "metadata": {},
   "outputs": [
    {
     "name": "stdout",
     "output_type": "stream",
     "text": [
      "Number of pixels in each segmentation (cluster):\n",
      "Cluster 1: 17026\n",
      "Cluster 2: 5661\n",
      "Cluster 3: 21147\n"
     ]
    }
   ],
   "source": [
    "cluster_counts = np.bincount(label.flatten())\n",
    "\n",
    "print(\"Number of pixels in each segmentation (cluster):\")\n",
    "for i, count in enumerate(cluster_counts):\n",
    "  print(f\"Cluster {i+1}: {count}\")"
   ]
  },
  {
   "cell_type": "code",
   "execution_count": 8,
   "id": "2b1f8920",
   "metadata": {},
   "outputs": [
    {
     "name": "stdout",
     "output_type": "stream",
     "text": [
      "[172  10 110]\n",
      "maximum average value for umbra:  10\n",
      "maximum average value for penumbra:  110\n"
     ]
    }
   ],
   "source": [
    "values = center.flatten()\n",
    "print(values)\n",
    "\n",
    "#retrieving the least value for umbra and second least for penumbra and storing them\n",
    "umb = np.min(values)\n",
    "values = [val for val in values if val > umb]\n",
    "penu = np.min(values)\n",
    "print(\"maximum average value for umbra: \",umb)\n",
    "print(\"maximum average value for penumbra: \",penu) "
   ]
  },
  {
   "cell_type": "code",
   "execution_count": 10,
   "id": "7066336f",
   "metadata": {},
   "outputs": [],
   "source": [
    "seg = cv.imread('segmented8.jpg')\n",
    "seg_g = cv.cvtColor(seg,cv.COLOR_BGR2GRAY)\n",
    "\n",
    "cv.imshow('seg',seg_g)"
   ]
  },
  {
   "cell_type": "code",
   "execution_count": 11,
   "id": "3fb5db37",
   "metadata": {},
   "outputs": [],
   "source": [
    "#creating a image of white\n",
    "plain= np.full((r, c, 3), 255, dtype='uint8')"
   ]
  },
  {
   "cell_type": "code",
   "execution_count": 12,
   "id": "5b09e736",
   "metadata": {},
   "outputs": [
    {
     "name": "stdout",
     "output_type": "stream",
     "text": [
      "Correction factor for penumbra:  31\n"
     ]
    }
   ],
   "source": [
    "#calculating the correction factor for penumbra\n",
    "maxf = np.max(values)\n",
    "correction_factor_p = int((maxf-penu) / 2)\n",
    "print(\"Correction factor for penumbra: \",correction_factor_p)"
   ]
  },
  {
   "cell_type": "code",
   "execution_count": 13,
   "id": "56ce67d0",
   "metadata": {},
   "outputs": [
    {
     "name": "stdout",
     "output_type": "stream",
     "text": [
      "Correction factor for umbra:  50\n"
     ]
    }
   ],
   "source": [
    "#calculating the correction factor for umbra\n",
    "correction_factor_u = int((penu-umb)/2)\n",
    "print(\"Correction factor for umbra: \",correction_factor_u)"
   ]
  },
  {
   "cell_type": "code",
   "execution_count": 14,
   "id": "f4746035",
   "metadata": {},
   "outputs": [
    {
     "name": "stdout",
     "output_type": "stream",
     "text": [
      "Total number of pixels in penumbra:  21147\n"
     ]
    },
    {
     "data": {
      "text/plain": [
       "48"
      ]
     },
     "execution_count": 14,
     "metadata": {},
     "output_type": "execute_result"
    }
   ],
   "source": [
    "#retrieving values of penumbra\n",
    "penumbra=cv.cvtColor(plain, cv.COLOR_BGR2GRAY)\n",
    "count_p =0  \n",
    "\n",
    "for i in range(r):\n",
    "    for j in range(c):\n",
    "        if seg_g[i,j] >umb+correction_factor_u:\n",
    "            if seg_g[i,j] <=penu+correction_factor_p:\n",
    "                penumbra[i,j] = seg_g[i,j]\n",
    "                count_p += 1  \n",
    "\n",
    "                \n",
    "print('Total number of pixels in penumbra: ',count_p)               \n",
    "cv.imshow('penum',penumbra)\n",
    "cv.waitKey(0)         "
   ]
  },
  {
   "cell_type": "code",
   "execution_count": 15,
   "id": "55695b6f",
   "metadata": {},
   "outputs": [
    {
     "name": "stdout",
     "output_type": "stream",
     "text": [
      "Total number of pixels in umbra:  5661\n",
      "Ratio of penumbra over umbra:  3.735559088500265\n",
      "Ratio of umbra over penumbra:  0.2676975457511704\n"
     ]
    }
   ],
   "source": [
    "#retrieving values of penumbra\n",
    "count_u =0\n",
    "umbra=cv.cvtColor(plain, cv.COLOR_BGR2GRAY)\n",
    "\n",
    "for i in range(r):\n",
    "    for j in range(c):\n",
    "        if seg_g[i,j]<=umb+correction_factor_u:\n",
    "            umbra[i,j] = seg_g[i,j]\n",
    "            count_u += 1\n",
    "\n",
    "cv.imshow('umbra',umbra)\n",
    "cv.waitKey(0) \n",
    "print('Total number of pixels in umbra: ',count_u)\n",
    "print('Ratio of penumbra over umbra: ',count_p/count_u)\n",
    "print('Ratio of umbra over penumbra: ',count_u/count_p)"
   ]
  },
  {
   "cell_type": "code",
   "execution_count": null,
   "id": "3fb44730",
   "metadata": {},
   "outputs": [],
   "source": []
  }
 ],
 "metadata": {
  "kernelspec": {
   "display_name": "Python 3 (ipykernel)",
   "language": "python",
   "name": "python3"
  },
  "language_info": {
   "codemirror_mode": {
    "name": "ipython",
    "version": 3
   },
   "file_extension": ".py",
   "mimetype": "text/x-python",
   "name": "python",
   "nbconvert_exporter": "python",
   "pygments_lexer": "ipython3",
   "version": "3.12.2"
  }
 },
 "nbformat": 4,
 "nbformat_minor": 5
}
